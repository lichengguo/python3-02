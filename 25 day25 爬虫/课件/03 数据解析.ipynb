{
 "cells": [
  {
   "cell_type": "markdown",
   "metadata": {},
   "source": [
    "### 如何实现聚焦爬虫(数据解析)\n",
    "- 聚焦爬虫的编码流程\n",
    "    1. 指定url\n",
    "    2. 基于requests模块发起请求\n",
    "    3. 获取响应对象中的数据\n",
    "    4. 数据解析\n",
    "    5. 进行持久化存储\n",
    "\n",
    "### 如何实现数据解析\n",
    "- 三种数据解析方式\n",
    "    - 正则表达式\n",
    "    - bs4\n",
    "    - xpath\n",
    "### 数据解析的原理\n",
    "    - 进行标签定位\n",
    "    - 获取定位好的标签里面的文本数据和属性值"
   ]
  },
  {
   "cell_type": "code",
   "execution_count": 2,
   "metadata": {},
   "outputs": [],
   "source": [
    "# 如何爬取一张图片\n",
    "import requests\n",
    "\n",
    "# 1. 指定URL\n",
    "url = \"https://pic.qiushibaike.com/system/pictures/12206/122065848/medium/57J15TGANJTJBS2J.jpg\"\n",
    "headers = {\n",
    "    \"User-Agent\": \"Mozilla/5.0 (Windows NT 10.0; Win64; x64) AppleWebKit/537.36 (KHTML, like Gecko) Chrome/75.0.3770.80 Safari/537.36\"\n",
    "}\n",
    "\n",
    "# 2. 基于requests模块发起请求\n",
    "response = requests.get(url=url, headers=headers)\n",
    "\n",
    "# 3. 获取响应数据\n",
    "page_content = response.content\n",
    "\n",
    "# 4. 持久化存储\n",
    "with open('./qiutu.jpg', 'wb') as f:\n",
    "    f.write(page_content)\n"
   ]
  },
  {
   "cell_type": "code",
   "execution_count": 6,
   "metadata": {},
   "outputs": [
    {
     "data": {
      "text/plain": [
       "('./yangmi.jpg', <http.client.HTTPMessage at 0x19ad4e98ba8>)"
      ]
     },
     "execution_count": 6,
     "metadata": {},
     "output_type": "execute_result"
    }
   ],
   "source": [
    "# 使用urllib模块下载图片\n",
    "from urllib import request\n",
    "\n",
    "url = \"https://pic.qiushibaike.com/system/pictures/12206/122065811/medium/MA0W4J5QSG2KTQM0.jpg\"\n",
    "\n",
    "request.urlretrieve(url=url, filename=\"./yangmi.jpg\")"
   ]
  },
  {
   "cell_type": "code",
   "execution_count": 11,
   "metadata": {},
   "outputs": [
    {
     "name": "stdout",
     "output_type": "stream",
     "text": [
      "['//pic.qiushibaike.com/system/pictures/12206/122065919/medium/RX08K1QIBROHKKK1.jpg']\n"
     ]
    }
   ],
   "source": [
    "page_html = \"\"\"\n",
    "<div class=\"thumb\"><a href=\"/article/122065919\" target=\"_blank\"><img src=\"//pic.qiushibaike.com/system/pictures/12206/122065919/medium/RX08K1QIBROHKKK1.jpg\" alt=\"今天送趟孩子\"></a></div>\n",
    "\"\"\"\n",
    "\n",
    "import re\n",
    "ex = '<div class=\"thumb\">.*?<img src=\"(.*?)\" alt=.*?</div>'\n",
    "print(re.findall(ex, page_html, re.S))"
   ]
  },
  {
   "cell_type": "code",
   "execution_count": 13,
   "metadata": {
    "collapsed": true
   },
   "outputs": [
    {
     "name": "stdout",
     "output_type": "stream",
     "text": [
      "['//pic.qiushibaike.com/system/pictures/12206/122065997/medium/KYGTD0QQ0XDFEPAK.jpg', '//pic.qiushibaike.com/system/pictures/12206/122065988/medium/16F9GPFHS3HAA9TU.jpg', '//pic.qiushibaike.com/system/pictures/12206/122065976/medium/28HCVJCUHKTJG50U.jpg', '//pic.qiushibaike.com/system/pictures/12206/122065962/medium/WOVCBBZ7XQQRYY8O.jpg', '//pic.qiushibaike.com/system/pictures/12206/122065963/medium/PKJGP1CL5HAN7E0S.jpg', '//pic.qiushibaike.com/system/pictures/12206/122065919/medium/RX08K1QIBROHKKK1.jpg', '//pic.qiushibaike.com/system/pictures/12206/122065904/medium/5AGFSYO2XRWAJNXG.jpg', '//pic.qiushibaike.com/system/pictures/12206/122065923/medium/JGHKIV5JFE8IPSC6.jpg', '//pic.qiushibaike.com/system/pictures/12206/122065884/medium/432XEF5PB2WSWN71.jpg', '//pic.qiushibaike.com/system/pictures/12206/122065852/medium/7BWOUXQTW36P5NU1.jpg', '//pic.qiushibaike.com/system/pictures/12206/122065844/medium/QKZ5G7GQJZLB384Q.jpg', '//pic.qiushibaike.com/system/pictures/12206/122065843/medium/QNER2QB2GVZIUU3Z.jpg', '//pic.qiushibaike.com/system/pictures/12206/122065848/medium/57J15TGANJTJBS2J.jpg', '//pic.qiushibaike.com/system/pictures/12206/122065826/medium/031DHDXD87B62WLU.jpg', '//pic.qiushibaike.com/system/pictures/12206/122065823/medium/BR1TUA1A8MR2PIW8.jpg', '//pic.qiushibaike.com/system/pictures/12206/122065821/medium/Y8BXIZJF6JRYQJLB.jpg', '//pic.qiushibaike.com/system/pictures/12206/122065811/medium/MA0W4J5QSG2KTQM0.jpg', '//pic.qiushibaike.com/system/pictures/12206/122065804/medium/QS4C8KD6A3FXHM2A.jpg', '//pic.qiushibaike.com/system/pictures/12206/122065784/medium/ZGZJS1COITNOE9VV.jpg', '//pic.qiushibaike.com/system/pictures/12206/122065772/medium/8LKXA9Z5QHSQIRBO.jpg']\n",
      "图片KYGTD0QQ0XDFEPAK.jpg爬取成功!\n",
      "图片16F9GPFHS3HAA9TU.jpg爬取成功!\n",
      "图片28HCVJCUHKTJG50U.jpg爬取成功!\n",
      "图片WOVCBBZ7XQQRYY8O.jpg爬取成功!\n",
      "图片PKJGP1CL5HAN7E0S.jpg爬取成功!\n",
      "图片RX08K1QIBROHKKK1.jpg爬取成功!\n",
      "图片5AGFSYO2XRWAJNXG.jpg爬取成功!\n",
      "图片JGHKIV5JFE8IPSC6.jpg爬取成功!\n",
      "图片432XEF5PB2WSWN71.jpg爬取成功!\n",
      "图片7BWOUXQTW36P5NU1.jpg爬取成功!\n",
      "图片QKZ5G7GQJZLB384Q.jpg爬取成功!\n",
      "图片QNER2QB2GVZIUU3Z.jpg爬取成功!\n",
      "图片57J15TGANJTJBS2J.jpg爬取成功!\n",
      "图片031DHDXD87B62WLU.jpg爬取成功!\n",
      "图片BR1TUA1A8MR2PIW8.jpg爬取成功!\n",
      "图片Y8BXIZJF6JRYQJLB.jpg爬取成功!\n",
      "图片MA0W4J5QSG2KTQM0.jpg爬取成功!\n",
      "图片QS4C8KD6A3FXHM2A.jpg爬取成功!\n",
      "图片ZGZJS1COITNOE9VV.jpg爬取成功!\n",
      "图片8LKXA9Z5QHSQIRBO.jpg爬取成功!\n"
     ]
    }
   ],
   "source": [
    "# 需求：爬取糗事百科指定页面的糗图，并将其保存到指定文件夹中\n",
    "import os\n",
    "import re\n",
    "import requests\n",
    "from urllib import request\n",
    "\n",
    "url = \"https://www.qiushibaike.com/pic/\"\n",
    "headers = {\n",
    "    \"User-Agent\": \"Mozilla/5.0 (Windows NT 10.0; Win64; x64) AppleWebKit/537.36 (KHTML, like Gecko) Chrome/75.0.3770.80 Safari/537.36\"\n",
    "}\n",
    "ex = '<div class=\"thumb\">.*?<img src=\"(.*?)\" alt=.*?</div>'\n",
    "\n",
    "# 在本地创建存储图片的文件夹\n",
    "if not os.path.exists(\"./qiutu\"):\n",
    "    os.mkdir(\"./qiutu\")\n",
    "\n",
    "# 获取糗事百科糗图版块的页面全部数据\n",
    "response = requests.get(url=url,headers=headers)\n",
    "page_text = response.text\n",
    "\n",
    "# 通过正则匹配解析图片URL\n",
    "img_src_list = re.findall(ex, page_text, re.S)\n",
    "print(img_src_list)\n",
    "\n",
    "# 向图片URL发送请求，获取图片数据\n",
    "for src in img_src_list:\n",
    "    src = \"https:\" + src\n",
    "    name = src.split(\"/\")[-1]\n",
    "    img_path = \"./qiutu/\" + name\n",
    "    \n",
    "    # 使用urllib发送请求获取并存储图片\n",
    "    request.urlretrieve(url=src, filename=img_path)\n",
    "    print(\"图片%s爬取成功!\"%(name))\n"
   ]
  },
  {
   "cell_type": "markdown",
   "metadata": {},
   "source": [
    "### bs4数据解析\n",
    "    - 环境安装:\n",
    "        pip install bs4\n",
    "        pip install lxml # 它是一个解析器,如果使用bs4进行数据解析,需要依靠lxml\n",
    "    - BeautifulSoup解析原理:\n",
    "        - 实例化一个BeautifulSoup对象,并将需要解析的页面源码数据加载到对象中\n",
    "        - 使用该对象的相关属性和方法进行数据解析或提取\n",
    "    - 如何实例化一个BeautifulSoup对象\n",
    "        - 本地加载: \n",
    "            soup = BeautifulSoup(\"./test_page.html\", \"lxml\")\n",
    "        - 网络加载: \n",
    "            soup = BeautifulSoup(page_text, \"lxml\")\n",
    "    - BeautifulSoup对象相关的属性和方法\n",
    "        - soup.tagName 获取页面源码中遇到的第一个标签\n",
    "        - 取属性: 返回的永远是一个单数\n",
    "            - soup.tagName.attrs 取得标签里面所有的属性\n",
    "            - soup.tagName.attrs[属性名] 取标签的单个属性\n",
    "            - soup.tagName[属性名] 取标签的单个属性\n",
    "        - 取文本:\n",
    "            - soup.string: 只可以获取直系标签中的文本内容\n",
    "            - soup.text: 获取标签下的所有文本内容\n",
    "            - soup.get_text(): 获取标签下的所有文本内容\n",
    "        - find() 返回的永远是一个单数\n",
    "            - find(tagName): 通过标签名进行数据解析\n",
    "            - find(tagName, 标签属性): 通过标签属性进行标签定位\n",
    "        - find_all() 返回的永远是一个列表\n",
    "            - 找到所有符合要求的标签\n",
    "        - select 选择器 返回的永远是一个列表\n",
    "            - 标签选择器, 类选择器, ID选择器, 层级选择器\n",
    "            - 层级选择器:\n",
    "                - 单层级: soup.select(\".tang > ul > li\")\n",
    "                - 多层级: soup.select(\".tang li\")\n",
    "        "
   ]
  },
  {
   "cell_type": "code",
   "execution_count": 19,
   "metadata": {
    "collapsed": true
   },
   "outputs": [
    {
     "data": {
      "text/plain": [
       "<html lang=\"en\">\n",
       "<head>\n",
       "<meta charset=\"utf-8\"/>\n",
       "<title>测试bs4</title>\n",
       "</head>\n",
       "<body>\n",
       "<div>\n",
       "<p>百里守约</p>\n",
       "</div>\n",
       "<div class=\"song\">\n",
       "<p>李清照</p>\n",
       "<p>王安石</p>\n",
       "<p>苏轼</p>\n",
       "<p>柳宗元</p>\n",
       "<a href=\"http://www.song.com/\" target=\"_self\" title=\"赵匡胤\">\n",
       "<span>this is span</span>\n",
       "        宋朝是最强大的王朝，不是军队的强大，而是经济很强大，国民都很有钱</a>\n",
       "<a class=\"du\" href=\"\">总为浮云能蔽日,长安不见使人愁</a>\n",
       "<img alt=\"\" src=\"http://www.baidu.com/meinv.jpg\"/>\n",
       "</div>\n",
       "<div class=\"tang\">\n",
       "<ul>\n",
       "<li><a href=\"http://www.baidu.com\" title=\"qing\">清明时节雨纷纷,路上行人欲断魂,借问酒家何处有,牧童遥指杏花村</a></li>\n",
       "<li><a href=\"http://www.163.com\" title=\"qin\">秦时明月汉时关,万里长征人未还,但使龙城飞将在,不教胡马度阴山</a></li>\n",
       "<li><a alt=\"qi\" href=\"http://www.126.com\">岐王宅里寻常见,崔九堂前几度闻,正是江南好风景,落花时节又逢君</a></li>\n",
       "<li><a class=\"du\" href=\"http://www.sina.com\">杜甫</a></li>\n",
       "<li><a class=\"du\" href=\"http://www.dudu.com\">杜牧</a></li>\n",
       "<li><b>杜小月</b></li>\n",
       "<li><i>度蜜月</i></li>\n",
       "<li><a href=\"http://www.haha.com\" id=\"feng\">凤凰台上凤凰游,凤去台空江自流,吴宫花草埋幽径,晋代衣冠成古丘</a></li>\n",
       "</ul>\n",
       "</div>\n",
       "</body>\n",
       "</html>"
      ]
     },
     "execution_count": 19,
     "metadata": {},
     "output_type": "execute_result"
    }
   ],
   "source": [
    "from bs4 import BeautifulSoup\n",
    "\n",
    "# 实例化一个BeautifulSoup对象,并将需要解析的页面源码数据加载到对象中\n",
    "fp = open(\"./test_page.html\", \"r\", encoding=\"utf-8\")\n",
    "soup = BeautifulSoup(fp, \"lxml\")\n",
    "soup"
   ]
  },
  {
   "cell_type": "code",
   "execution_count": 21,
   "metadata": {},
   "outputs": [
    {
     "data": {
      "text/plain": [
       "<a href=\"http://www.song.com/\" target=\"_self\" title=\"赵匡胤\">\n",
       "<span>this is span</span>\n",
       "        宋朝是最强大的王朝，不是军队的强大，而是经济很强大，国民都很有钱</a>"
      ]
     },
     "execution_count": 21,
     "metadata": {},
     "output_type": "execute_result"
    }
   ],
   "source": [
    "# print(soup)\n",
    "# print(soup.head)\n",
    "# print(soup.body)\n",
    "soup.a"
   ]
  },
  {
   "cell_type": "code",
   "execution_count": 24,
   "metadata": {},
   "outputs": [
    {
     "data": {
      "text/plain": [
       "'赵匡胤'"
      ]
     },
     "execution_count": 24,
     "metadata": {},
     "output_type": "execute_result"
    }
   ],
   "source": [
    "# soup.a.attrs\n",
    "# soup.a.attrs[\"href\"]\n",
    "soup.a[\"title\"]"
   ]
  },
  {
   "cell_type": "code",
   "execution_count": 25,
   "metadata": {},
   "outputs": [
    {
     "data": {
      "text/plain": [
       "<p>百里守约</p>"
      ]
     },
     "execution_count": 25,
     "metadata": {},
     "output_type": "execute_result"
    }
   ],
   "source": [
    "soup.p"
   ]
  },
  {
   "cell_type": "code",
   "execution_count": 26,
   "metadata": {},
   "outputs": [
    {
     "name": "stdout",
     "output_type": "stream",
     "text": [
      "百里守约\n",
      "百里守约\n",
      "百里守约\n"
     ]
    }
   ],
   "source": [
    "print(soup.p.string)\n",
    "print(soup.p.text)\n",
    "print(soup.p.get_text())"
   ]
  },
  {
   "cell_type": "code",
   "execution_count": 29,
   "metadata": {},
   "outputs": [
    {
     "data": {
      "text/plain": [
       "<a href=\"http://www.song.com/\" target=\"_self\" title=\"赵匡胤\">\n",
       "<span>this is span</span>\n",
       "        宋朝是最强大的王朝，不是军队的强大，而是经济很强大，国民都很有钱</a>"
      ]
     },
     "execution_count": 29,
     "metadata": {},
     "output_type": "execute_result"
    }
   ],
   "source": [
    "soup.find(\"a\")"
   ]
  },
  {
   "cell_type": "code",
   "execution_count": 32,
   "metadata": {},
   "outputs": [
    {
     "data": {
      "text/plain": [
       "<div class=\"tang\">\n",
       "<ul>\n",
       "<li><a href=\"http://www.baidu.com\" title=\"qing\">清明时节雨纷纷,路上行人欲断魂,借问酒家何处有,牧童遥指杏花村</a></li>\n",
       "<li><a href=\"http://www.163.com\" title=\"qin\">秦时明月汉时关,万里长征人未还,但使龙城飞将在,不教胡马度阴山</a></li>\n",
       "<li><a alt=\"qi\" href=\"http://www.126.com\">岐王宅里寻常见,崔九堂前几度闻,正是江南好风景,落花时节又逢君</a></li>\n",
       "<li><a class=\"du\" href=\"http://www.sina.com\">杜甫</a></li>\n",
       "<li><a class=\"du\" href=\"http://www.dudu.com\">杜牧</a></li>\n",
       "<li><b>杜小月</b></li>\n",
       "<li><i>度蜜月</i></li>\n",
       "<li><a href=\"http://www.haha.com\" id=\"feng\">凤凰台上凤凰游,凤去台空江自流,吴宫花草埋幽径,晋代衣冠成古丘</a></li>\n",
       "</ul>\n",
       "</div>"
      ]
     },
     "execution_count": 32,
     "metadata": {},
     "output_type": "execute_result"
    }
   ],
   "source": [
    "soup.find(\"div\", class_=\"tang\")"
   ]
  },
  {
   "cell_type": "code",
   "execution_count": 2,
   "metadata": {
    "pycharm": {
     "is_executing": false
    }
   },
   "outputs": [
    {
     "traceback": [
      "\u001b[1;31m---------------------------------------------------------------------------\u001b[0m",
      "\u001b[1;31mNameError\u001b[0m                                 Traceback (most recent call last)",
      "\u001b[1;32m<ipython-input-2-8f2332661f19>\u001b[0m in \u001b[0;36m<module>\u001b[1;34m\u001b[0m\n\u001b[1;32m----> 1\u001b[1;33m \u001b[0msoup\u001b[0m\u001b[1;33m.\u001b[0m\u001b[0mfind\u001b[0m\u001b[1;33m(\u001b[0m\u001b[1;34m\"div\"\u001b[0m\u001b[1;33m,\u001b[0m \u001b[0mclass_\u001b[0m\u001b[1;33m=\u001b[0m\u001b[1;34m\"tang\"\u001b[0m\u001b[1;33m)\u001b[0m\u001b[1;33m.\u001b[0m\u001b[0mstring\u001b[0m\u001b[1;33m\u001b[0m\u001b[1;33m\u001b[0m\u001b[0m\n\u001b[0m",
      "\u001b[1;31mNameError\u001b[0m: name 'soup' is not defined"
     ],
     "ename": "NameError",
     "evalue": "name 'soup' is not defined",
     "output_type": "error"
    }
   ],
   "source": [
    "soup.find(\"div\", class_=\"tang\").string"
   ]
  },
  {
   "cell_type": "code",
   "execution_count": 34,
   "metadata": {},
   "outputs": [
    {
     "data": {
      "text/plain": [
       "'\\n\\n清明时节雨纷纷,路上行人欲断魂,借问酒家何处有,牧童遥指杏花村\\n秦时明月汉时关,万里长征人未还,但使龙城飞将在,不教胡马度阴山\\n岐王宅里寻常见,崔九堂前几度闻,正是江南好风景,落花时节又逢君\\n杜甫\\n杜牧\\n杜小月\\n度蜜月\\n凤凰台上凤凰游,凤去台空江自流,吴宫花草埋幽径,晋代衣冠成古丘\\n\\n'"
      ]
     },
     "execution_count": 34,
     "metadata": {},
     "output_type": "execute_result"
    }
   ],
   "source": [
    "soup.find(\"div\", class_=\"tang\").text"
   ]
  },
  {
   "cell_type": "code",
   "execution_count": 35,
   "metadata": {},
   "outputs": [
    {
     "data": {
      "text/plain": [
       "'\\n\\n清明时节雨纷纷,路上行人欲断魂,借问酒家何处有,牧童遥指杏花村\\n秦时明月汉时关,万里长征人未还,但使龙城飞将在,不教胡马度阴山\\n岐王宅里寻常见,崔九堂前几度闻,正是江南好风景,落花时节又逢君\\n杜甫\\n杜牧\\n杜小月\\n度蜜月\\n凤凰台上凤凰游,凤去台空江自流,吴宫花草埋幽径,晋代衣冠成古丘\\n\\n'"
      ]
     },
     "execution_count": 35,
     "metadata": {},
     "output_type": "execute_result"
    }
   ],
   "source": [
    "soup.find(\"div\", class_=\"tang\").get_text()"
   ]
  },
  {
   "cell_type": "code",
   "execution_count": 42,
   "metadata": {},
   "outputs": [
    {
     "data": {
      "text/plain": [
       "[<div>\n",
       " <p>百里守约</p>\n",
       " </div>, <div class=\"song\">\n",
       " <p>李清照</p>\n",
       " <p>王安石</p>\n",
       " <p>苏轼</p>\n",
       " <p>柳宗元</p>\n",
       " <a href=\"http://www.song.com/\" target=\"_self\" title=\"赵匡胤\">\n",
       " <span>this is span</span>\n",
       "         宋朝是最强大的王朝，不是军队的强大，而是经济很强大，国民都很有钱</a>\n",
       " <a class=\"du\" href=\"\">总为浮云能蔽日,长安不见使人愁</a>\n",
       " <img alt=\"\" src=\"http://www.baidu.com/meinv.jpg\"/>\n",
       " </div>, <div class=\"tang\">\n",
       " <ul>\n",
       " <li><a href=\"http://www.baidu.com\" title=\"qing\">清明时节雨纷纷,路上行人欲断魂,借问酒家何处有,牧童遥指杏花村</a></li>\n",
       " <li><a href=\"http://www.163.com\" title=\"qin\">秦时明月汉时关,万里长征人未还,但使龙城飞将在,不教胡马度阴山</a></li>\n",
       " <li><a alt=\"qi\" href=\"http://www.126.com\">岐王宅里寻常见,崔九堂前几度闻,正是江南好风景,落花时节又逢君</a></li>\n",
       " <li><a class=\"du\" href=\"http://www.sina.com\">杜甫</a></li>\n",
       " <li><a class=\"du\" href=\"http://www.dudu.com\">杜牧</a></li>\n",
       " <li><b>杜小月</b></li>\n",
       " <li><i>度蜜月</i></li>\n",
       " <li><a href=\"http://www.haha.com\" id=\"feng\">凤凰台上凤凰游,凤去台空江自流,吴宫花草埋幽径,晋代衣冠成古丘</a></li>\n",
       " </ul>\n",
       " </div>]"
      ]
     },
     "execution_count": 42,
     "metadata": {},
     "output_type": "execute_result"
    }
   ],
   "source": [
    "soup.find_all(\"div\")"
   ]
  },
  {
   "cell_type": "code",
   "execution_count": 36,
   "metadata": {},
   "outputs": [
    {
     "data": {
      "text/plain": [
       "[<div>\n",
       " <p>百里守约</p>\n",
       " </div>, <p>百里守约</p>, <div class=\"song\">\n",
       " <p>李清照</p>\n",
       " <p>王安石</p>\n",
       " <p>苏轼</p>\n",
       " <p>柳宗元</p>\n",
       " <a href=\"http://www.song.com/\" target=\"_self\" title=\"赵匡胤\">\n",
       " <span>this is span</span>\n",
       "         宋朝是最强大的王朝，不是军队的强大，而是经济很强大，国民都很有钱</a>\n",
       " <a class=\"du\" href=\"\">总为浮云能蔽日,长安不见使人愁</a>\n",
       " <img alt=\"\" src=\"http://www.baidu.com/meinv.jpg\"/>\n",
       " </div>, <p>李清照</p>, <p>王安石</p>, <p>苏轼</p>, <p>柳宗元</p>, <div class=\"tang\">\n",
       " <ul>\n",
       " <li><a href=\"http://www.baidu.com\" title=\"qing\">清明时节雨纷纷,路上行人欲断魂,借问酒家何处有,牧童遥指杏花村</a></li>\n",
       " <li><a href=\"http://www.163.com\" title=\"qin\">秦时明月汉时关,万里长征人未还,但使龙城飞将在,不教胡马度阴山</a></li>\n",
       " <li><a alt=\"qi\" href=\"http://www.126.com\">岐王宅里寻常见,崔九堂前几度闻,正是江南好风景,落花时节又逢君</a></li>\n",
       " <li><a class=\"du\" href=\"http://www.sina.com\">杜甫</a></li>\n",
       " <li><a class=\"du\" href=\"http://www.dudu.com\">杜牧</a></li>\n",
       " <li><b>杜小月</b></li>\n",
       " <li><i>度蜜月</i></li>\n",
       " <li><a href=\"http://www.haha.com\" id=\"feng\">凤凰台上凤凰游,凤去台空江自流,吴宫花草埋幽径,晋代衣冠成古丘</a></li>\n",
       " </ul>\n",
       " </div>]"
      ]
     },
     "execution_count": 36,
     "metadata": {},
     "output_type": "execute_result"
    }
   ],
   "source": [
    "soup.find_all([\"div\", \"p\"])"
   ]
  },
  {
   "cell_type": "code",
   "execution_count": 38,
   "metadata": {},
   "outputs": [
    {
     "data": {
      "text/plain": [
       "[<li><a href=\"http://www.baidu.com\" title=\"qing\">清明时节雨纷纷,路上行人欲断魂,借问酒家何处有,牧童遥指杏花村</a></li>,\n",
       " <li><a href=\"http://www.163.com\" title=\"qin\">秦时明月汉时关,万里长征人未还,但使龙城飞将在,不教胡马度阴山</a></li>,\n",
       " <li><a alt=\"qi\" href=\"http://www.126.com\">岐王宅里寻常见,崔九堂前几度闻,正是江南好风景,落花时节又逢君</a></li>]"
      ]
     },
     "execution_count": 38,
     "metadata": {},
     "output_type": "execute_result"
    }
   ],
   "source": [
    "soup.find_all(\"li\", limit=3)"
   ]
  },
  {
   "cell_type": "code",
   "execution_count": 48,
   "metadata": {},
   "outputs": [
    {
     "data": {
      "text/plain": [
       "[<div class=\"song\">\n",
       " <p>李清照</p>\n",
       " <p>王安石</p>\n",
       " <p>苏轼</p>\n",
       " <p>柳宗元</p>\n",
       " <a href=\"http://www.song.com/\" target=\"_self\" title=\"赵匡胤\">\n",
       " <span>this is span</span>\n",
       "         宋朝是最强大的王朝，不是军队的强大，而是经济很强大，国民都很有钱</a>\n",
       " <a class=\"du\" href=\"\">总为浮云能蔽日,长安不见使人愁</a>\n",
       " <img alt=\"\" src=\"http://www.baidu.com/meinv.jpg\"/>\n",
       " </div>]"
      ]
     },
     "execution_count": 48,
     "metadata": {},
     "output_type": "execute_result"
    }
   ],
   "source": [
    "soup.select(\".song\")"
   ]
  },
  {
   "cell_type": "code",
   "execution_count": 39,
   "metadata": {},
   "outputs": [
    {
     "data": {
      "text/plain": [
       "[<li><a href=\"http://www.baidu.com\" title=\"qing\">清明时节雨纷纷,路上行人欲断魂,借问酒家何处有,牧童遥指杏花村</a></li>,\n",
       " <li><a href=\"http://www.163.com\" title=\"qin\">秦时明月汉时关,万里长征人未还,但使龙城飞将在,不教胡马度阴山</a></li>,\n",
       " <li><a alt=\"qi\" href=\"http://www.126.com\">岐王宅里寻常见,崔九堂前几度闻,正是江南好风景,落花时节又逢君</a></li>,\n",
       " <li><a class=\"du\" href=\"http://www.sina.com\">杜甫</a></li>,\n",
       " <li><a class=\"du\" href=\"http://www.dudu.com\">杜牧</a></li>,\n",
       " <li><b>杜小月</b></li>,\n",
       " <li><i>度蜜月</i></li>,\n",
       " <li><a href=\"http://www.haha.com\" id=\"feng\">凤凰台上凤凰游,凤去台空江自流,吴宫花草埋幽径,晋代衣冠成古丘</a></li>]"
      ]
     },
     "execution_count": 39,
     "metadata": {},
     "output_type": "execute_result"
    }
   ],
   "source": [
    "soup.select(\".tang > ul > li\")"
   ]
  },
  {
   "cell_type": "code",
   "execution_count": 40,
   "metadata": {},
   "outputs": [
    {
     "data": {
      "text/plain": [
       "[<li><a href=\"http://www.baidu.com\" title=\"qing\">清明时节雨纷纷,路上行人欲断魂,借问酒家何处有,牧童遥指杏花村</a></li>,\n",
       " <li><a href=\"http://www.163.com\" title=\"qin\">秦时明月汉时关,万里长征人未还,但使龙城飞将在,不教胡马度阴山</a></li>,\n",
       " <li><a alt=\"qi\" href=\"http://www.126.com\">岐王宅里寻常见,崔九堂前几度闻,正是江南好风景,落花时节又逢君</a></li>,\n",
       " <li><a class=\"du\" href=\"http://www.sina.com\">杜甫</a></li>,\n",
       " <li><a class=\"du\" href=\"http://www.dudu.com\">杜牧</a></li>,\n",
       " <li><b>杜小月</b></li>,\n",
       " <li><i>度蜜月</i></li>,\n",
       " <li><a href=\"http://www.haha.com\" id=\"feng\">凤凰台上凤凰游,凤去台空江自流,吴宫花草埋幽径,晋代衣冠成古丘</a></li>]"
      ]
     },
     "execution_count": 40,
     "metadata": {},
     "output_type": "execute_result"
    }
   ],
   "source": [
    "soup.select(\".tang li\")"
   ]
  },
  {
   "cell_type": "code",
   "execution_count": 4,
   "metadata": {
    "pycharm": {
     "is_executing": false
    }
   },
   "outputs": [
    {
     "traceback": [
      "\u001b[1;31m---------------------------------------------------------------------------\u001b[0m",
      "\u001b[1;31mTimeoutError\u001b[0m                              Traceback (most recent call last)",
      "\u001b[1;32mc:\\python36\\lib\\site-packages\\urllib3\\connectionpool.py\u001b[0m in \u001b[0;36murlopen\u001b[1;34m(self, method, url, body, headers, retries, redirect, assert_same_host, timeout, pool_timeout, release_conn, chunked, body_pos, **response_kw)\u001b[0m\n\u001b[0;32m    602\u001b[0m                                                   \u001b[0mbody\u001b[0m\u001b[1;33m=\u001b[0m\u001b[0mbody\u001b[0m\u001b[1;33m,\u001b[0m \u001b[0mheaders\u001b[0m\u001b[1;33m=\u001b[0m\u001b[0mheaders\u001b[0m\u001b[1;33m,\u001b[0m\u001b[1;33m\u001b[0m\u001b[1;33m\u001b[0m\u001b[0m\n\u001b[1;32m--> 603\u001b[1;33m                                                   chunked=chunked)\n\u001b[0m\u001b[0;32m    604\u001b[0m \u001b[1;33m\u001b[0m\u001b[0m\n",
      "\u001b[1;32mc:\\python36\\lib\\site-packages\\urllib3\\connectionpool.py\u001b[0m in \u001b[0;36m_make_request\u001b[1;34m(self, conn, method, url, timeout, chunked, **httplib_request_kw)\u001b[0m\n\u001b[0;32m    386\u001b[0m                     \u001b[1;31m# otherwise it looks like a programming error was the cause.\u001b[0m\u001b[1;33m\u001b[0m\u001b[1;33m\u001b[0m\u001b[1;33m\u001b[0m\u001b[0m\n\u001b[1;32m--> 387\u001b[1;33m                     \u001b[0msix\u001b[0m\u001b[1;33m.\u001b[0m\u001b[0mraise_from\u001b[0m\u001b[1;33m(\u001b[0m\u001b[0me\u001b[0m\u001b[1;33m,\u001b[0m \u001b[1;32mNone\u001b[0m\u001b[1;33m)\u001b[0m\u001b[1;33m\u001b[0m\u001b[1;33m\u001b[0m\u001b[0m\n\u001b[0m\u001b[0;32m    388\u001b[0m         \u001b[1;32mexcept\u001b[0m \u001b[1;33m(\u001b[0m\u001b[0mSocketTimeout\u001b[0m\u001b[1;33m,\u001b[0m \u001b[0mBaseSSLError\u001b[0m\u001b[1;33m,\u001b[0m \u001b[0mSocketError\u001b[0m\u001b[1;33m)\u001b[0m \u001b[1;32mas\u001b[0m \u001b[0me\u001b[0m\u001b[1;33m:\u001b[0m\u001b[1;33m\u001b[0m\u001b[1;33m\u001b[0m\u001b[0m\n",
      "\u001b[1;32mc:\\python36\\lib\\site-packages\\urllib3\\packages\\six.py\u001b[0m in \u001b[0;36mraise_from\u001b[1;34m(value, from_value)\u001b[0m\n",
      "\u001b[1;32mc:\\python36\\lib\\site-packages\\urllib3\\connectionpool.py\u001b[0m in \u001b[0;36m_make_request\u001b[1;34m(self, conn, method, url, timeout, chunked, **httplib_request_kw)\u001b[0m\n\u001b[0;32m    382\u001b[0m                 \u001b[1;32mtry\u001b[0m\u001b[1;33m:\u001b[0m\u001b[1;33m\u001b[0m\u001b[1;33m\u001b[0m\u001b[0m\n\u001b[1;32m--> 383\u001b[1;33m                     \u001b[0mhttplib_response\u001b[0m \u001b[1;33m=\u001b[0m \u001b[0mconn\u001b[0m\u001b[1;33m.\u001b[0m\u001b[0mgetresponse\u001b[0m\u001b[1;33m(\u001b[0m\u001b[1;33m)\u001b[0m\u001b[1;33m\u001b[0m\u001b[1;33m\u001b[0m\u001b[0m\n\u001b[0m\u001b[0;32m    384\u001b[0m                 \u001b[1;32mexcept\u001b[0m \u001b[0mException\u001b[0m \u001b[1;32mas\u001b[0m \u001b[0me\u001b[0m\u001b[1;33m:\u001b[0m\u001b[1;33m\u001b[0m\u001b[1;33m\u001b[0m\u001b[0m\n",
      "\u001b[1;32mc:\\python36\\lib\\http\\client.py\u001b[0m in \u001b[0;36mgetresponse\u001b[1;34m(self)\u001b[0m\n\u001b[0;32m   1330\u001b[0m             \u001b[1;32mtry\u001b[0m\u001b[1;33m:\u001b[0m\u001b[1;33m\u001b[0m\u001b[1;33m\u001b[0m\u001b[0m\n\u001b[1;32m-> 1331\u001b[1;33m                 \u001b[0mresponse\u001b[0m\u001b[1;33m.\u001b[0m\u001b[0mbegin\u001b[0m\u001b[1;33m(\u001b[0m\u001b[1;33m)\u001b[0m\u001b[1;33m\u001b[0m\u001b[1;33m\u001b[0m\u001b[0m\n\u001b[0m\u001b[0;32m   1332\u001b[0m             \u001b[1;32mexcept\u001b[0m \u001b[0mConnectionError\u001b[0m\u001b[1;33m:\u001b[0m\u001b[1;33m\u001b[0m\u001b[1;33m\u001b[0m\u001b[0m\n",
      "\u001b[1;32mc:\\python36\\lib\\http\\client.py\u001b[0m in \u001b[0;36mbegin\u001b[1;34m(self)\u001b[0m\n\u001b[0;32m    296\u001b[0m         \u001b[1;32mwhile\u001b[0m \u001b[1;32mTrue\u001b[0m\u001b[1;33m:\u001b[0m\u001b[1;33m\u001b[0m\u001b[1;33m\u001b[0m\u001b[0m\n\u001b[1;32m--> 297\u001b[1;33m             \u001b[0mversion\u001b[0m\u001b[1;33m,\u001b[0m \u001b[0mstatus\u001b[0m\u001b[1;33m,\u001b[0m \u001b[0mreason\u001b[0m \u001b[1;33m=\u001b[0m \u001b[0mself\u001b[0m\u001b[1;33m.\u001b[0m\u001b[0m_read_status\u001b[0m\u001b[1;33m(\u001b[0m\u001b[1;33m)\u001b[0m\u001b[1;33m\u001b[0m\u001b[1;33m\u001b[0m\u001b[0m\n\u001b[0m\u001b[0;32m    298\u001b[0m             \u001b[1;32mif\u001b[0m \u001b[0mstatus\u001b[0m \u001b[1;33m!=\u001b[0m \u001b[0mCONTINUE\u001b[0m\u001b[1;33m:\u001b[0m\u001b[1;33m\u001b[0m\u001b[1;33m\u001b[0m\u001b[0m\n",
      "\u001b[1;32mc:\\python36\\lib\\http\\client.py\u001b[0m in \u001b[0;36m_read_status\u001b[1;34m(self)\u001b[0m\n\u001b[0;32m    257\u001b[0m     \u001b[1;32mdef\u001b[0m \u001b[0m_read_status\u001b[0m\u001b[1;33m(\u001b[0m\u001b[0mself\u001b[0m\u001b[1;33m)\u001b[0m\u001b[1;33m:\u001b[0m\u001b[1;33m\u001b[0m\u001b[1;33m\u001b[0m\u001b[0m\n\u001b[1;32m--> 258\u001b[1;33m         \u001b[0mline\u001b[0m \u001b[1;33m=\u001b[0m \u001b[0mstr\u001b[0m\u001b[1;33m(\u001b[0m\u001b[0mself\u001b[0m\u001b[1;33m.\u001b[0m\u001b[0mfp\u001b[0m\u001b[1;33m.\u001b[0m\u001b[0mreadline\u001b[0m\u001b[1;33m(\u001b[0m\u001b[0m_MAXLINE\u001b[0m \u001b[1;33m+\u001b[0m \u001b[1;36m1\u001b[0m\u001b[1;33m)\u001b[0m\u001b[1;33m,\u001b[0m \u001b[1;34m\"iso-8859-1\"\u001b[0m\u001b[1;33m)\u001b[0m\u001b[1;33m\u001b[0m\u001b[1;33m\u001b[0m\u001b[0m\n\u001b[0m\u001b[0;32m    259\u001b[0m         \u001b[1;32mif\u001b[0m \u001b[0mlen\u001b[0m\u001b[1;33m(\u001b[0m\u001b[0mline\u001b[0m\u001b[1;33m)\u001b[0m \u001b[1;33m>\u001b[0m \u001b[0m_MAXLINE\u001b[0m\u001b[1;33m:\u001b[0m\u001b[1;33m\u001b[0m\u001b[1;33m\u001b[0m\u001b[0m\n",
      "\u001b[1;32mc:\\python36\\lib\\socket.py\u001b[0m in \u001b[0;36mreadinto\u001b[1;34m(self, b)\u001b[0m\n\u001b[0;32m    585\u001b[0m             \u001b[1;32mtry\u001b[0m\u001b[1;33m:\u001b[0m\u001b[1;33m\u001b[0m\u001b[1;33m\u001b[0m\u001b[0m\n\u001b[1;32m--> 586\u001b[1;33m                 \u001b[1;32mreturn\u001b[0m \u001b[0mself\u001b[0m\u001b[1;33m.\u001b[0m\u001b[0m_sock\u001b[0m\u001b[1;33m.\u001b[0m\u001b[0mrecv_into\u001b[0m\u001b[1;33m(\u001b[0m\u001b[0mb\u001b[0m\u001b[1;33m)\u001b[0m\u001b[1;33m\u001b[0m\u001b[1;33m\u001b[0m\u001b[0m\n\u001b[0m\u001b[0;32m    587\u001b[0m             \u001b[1;32mexcept\u001b[0m \u001b[0mtimeout\u001b[0m\u001b[1;33m:\u001b[0m\u001b[1;33m\u001b[0m\u001b[1;33m\u001b[0m\u001b[0m\n",
      "\u001b[1;31mTimeoutError\u001b[0m: [WinError 10060] 由于连接方在一段时间后没有正确答复或连接的主机没有反应，连接尝试失败。",
      "\nDuring handling of the above exception, another exception occurred:\n",
      "\u001b[1;31mProtocolError\u001b[0m                             Traceback (most recent call last)",
      "\u001b[1;32mc:\\python36\\lib\\site-packages\\requests\\adapters.py\u001b[0m in \u001b[0;36msend\u001b[1;34m(self, request, stream, timeout, verify, cert, proxies)\u001b[0m\n\u001b[0;32m    448\u001b[0m                     \u001b[0mretries\u001b[0m\u001b[1;33m=\u001b[0m\u001b[0mself\u001b[0m\u001b[1;33m.\u001b[0m\u001b[0mmax_retries\u001b[0m\u001b[1;33m,\u001b[0m\u001b[1;33m\u001b[0m\u001b[1;33m\u001b[0m\u001b[0m\n\u001b[1;32m--> 449\u001b[1;33m                     \u001b[0mtimeout\u001b[0m\u001b[1;33m=\u001b[0m\u001b[0mtimeout\u001b[0m\u001b[1;33m\u001b[0m\u001b[1;33m\u001b[0m\u001b[0m\n\u001b[0m\u001b[0;32m    450\u001b[0m                 )\n",
      "\u001b[1;32mc:\\python36\\lib\\site-packages\\urllib3\\connectionpool.py\u001b[0m in \u001b[0;36murlopen\u001b[1;34m(self, method, url, body, headers, retries, redirect, assert_same_host, timeout, pool_timeout, release_conn, chunked, body_pos, **response_kw)\u001b[0m\n\u001b[0;32m    640\u001b[0m             retries = retries.increment(method, url, error=e, _pool=self,\n\u001b[1;32m--> 641\u001b[1;33m                                         _stacktrace=sys.exc_info()[2])\n\u001b[0m\u001b[0;32m    642\u001b[0m             \u001b[0mretries\u001b[0m\u001b[1;33m.\u001b[0m\u001b[0msleep\u001b[0m\u001b[1;33m(\u001b[0m\u001b[1;33m)\u001b[0m\u001b[1;33m\u001b[0m\u001b[1;33m\u001b[0m\u001b[0m\n",
      "\u001b[1;32mc:\\python36\\lib\\site-packages\\urllib3\\util\\retry.py\u001b[0m in \u001b[0;36mincrement\u001b[1;34m(self, method, url, response, error, _pool, _stacktrace)\u001b[0m\n\u001b[0;32m    367\u001b[0m             \u001b[1;32mif\u001b[0m \u001b[0mread\u001b[0m \u001b[1;32mis\u001b[0m \u001b[1;32mFalse\u001b[0m \u001b[1;32mor\u001b[0m \u001b[1;32mnot\u001b[0m \u001b[0mself\u001b[0m\u001b[1;33m.\u001b[0m\u001b[0m_is_method_retryable\u001b[0m\u001b[1;33m(\u001b[0m\u001b[0mmethod\u001b[0m\u001b[1;33m)\u001b[0m\u001b[1;33m:\u001b[0m\u001b[1;33m\u001b[0m\u001b[1;33m\u001b[0m\u001b[0m\n\u001b[1;32m--> 368\u001b[1;33m                 \u001b[1;32mraise\u001b[0m \u001b[0msix\u001b[0m\u001b[1;33m.\u001b[0m\u001b[0mreraise\u001b[0m\u001b[1;33m(\u001b[0m\u001b[0mtype\u001b[0m\u001b[1;33m(\u001b[0m\u001b[0merror\u001b[0m\u001b[1;33m)\u001b[0m\u001b[1;33m,\u001b[0m \u001b[0merror\u001b[0m\u001b[1;33m,\u001b[0m \u001b[0m_stacktrace\u001b[0m\u001b[1;33m)\u001b[0m\u001b[1;33m\u001b[0m\u001b[1;33m\u001b[0m\u001b[0m\n\u001b[0m\u001b[0;32m    369\u001b[0m             \u001b[1;32melif\u001b[0m \u001b[0mread\u001b[0m \u001b[1;32mis\u001b[0m \u001b[1;32mnot\u001b[0m \u001b[1;32mNone\u001b[0m\u001b[1;33m:\u001b[0m\u001b[1;33m\u001b[0m\u001b[1;33m\u001b[0m\u001b[0m\n",
      "\u001b[1;32mc:\\python36\\lib\\site-packages\\urllib3\\packages\\six.py\u001b[0m in \u001b[0;36mreraise\u001b[1;34m(tp, value, tb)\u001b[0m\n\u001b[0;32m    684\u001b[0m         \u001b[1;32mif\u001b[0m \u001b[0mvalue\u001b[0m\u001b[1;33m.\u001b[0m\u001b[0m__traceback__\u001b[0m \u001b[1;32mis\u001b[0m \u001b[1;32mnot\u001b[0m \u001b[0mtb\u001b[0m\u001b[1;33m:\u001b[0m\u001b[1;33m\u001b[0m\u001b[1;33m\u001b[0m\u001b[0m\n\u001b[1;32m--> 685\u001b[1;33m             \u001b[1;32mraise\u001b[0m \u001b[0mvalue\u001b[0m\u001b[1;33m.\u001b[0m\u001b[0mwith_traceback\u001b[0m\u001b[1;33m(\u001b[0m\u001b[0mtb\u001b[0m\u001b[1;33m)\u001b[0m\u001b[1;33m\u001b[0m\u001b[1;33m\u001b[0m\u001b[0m\n\u001b[0m\u001b[0;32m    686\u001b[0m         \u001b[1;32mraise\u001b[0m \u001b[0mvalue\u001b[0m\u001b[1;33m\u001b[0m\u001b[1;33m\u001b[0m\u001b[0m\n",
      "\u001b[1;32mc:\\python36\\lib\\site-packages\\urllib3\\connectionpool.py\u001b[0m in \u001b[0;36murlopen\u001b[1;34m(self, method, url, body, headers, retries, redirect, assert_same_host, timeout, pool_timeout, release_conn, chunked, body_pos, **response_kw)\u001b[0m\n\u001b[0;32m    602\u001b[0m                                                   \u001b[0mbody\u001b[0m\u001b[1;33m=\u001b[0m\u001b[0mbody\u001b[0m\u001b[1;33m,\u001b[0m \u001b[0mheaders\u001b[0m\u001b[1;33m=\u001b[0m\u001b[0mheaders\u001b[0m\u001b[1;33m,\u001b[0m\u001b[1;33m\u001b[0m\u001b[1;33m\u001b[0m\u001b[0m\n\u001b[1;32m--> 603\u001b[1;33m                                                   chunked=chunked)\n\u001b[0m\u001b[0;32m    604\u001b[0m \u001b[1;33m\u001b[0m\u001b[0m\n",
      "\u001b[1;32mc:\\python36\\lib\\site-packages\\urllib3\\connectionpool.py\u001b[0m in \u001b[0;36m_make_request\u001b[1;34m(self, conn, method, url, timeout, chunked, **httplib_request_kw)\u001b[0m\n\u001b[0;32m    386\u001b[0m                     \u001b[1;31m# otherwise it looks like a programming error was the cause.\u001b[0m\u001b[1;33m\u001b[0m\u001b[1;33m\u001b[0m\u001b[1;33m\u001b[0m\u001b[0m\n\u001b[1;32m--> 387\u001b[1;33m                     \u001b[0msix\u001b[0m\u001b[1;33m.\u001b[0m\u001b[0mraise_from\u001b[0m\u001b[1;33m(\u001b[0m\u001b[0me\u001b[0m\u001b[1;33m,\u001b[0m \u001b[1;32mNone\u001b[0m\u001b[1;33m)\u001b[0m\u001b[1;33m\u001b[0m\u001b[1;33m\u001b[0m\u001b[0m\n\u001b[0m\u001b[0;32m    388\u001b[0m         \u001b[1;32mexcept\u001b[0m \u001b[1;33m(\u001b[0m\u001b[0mSocketTimeout\u001b[0m\u001b[1;33m,\u001b[0m \u001b[0mBaseSSLError\u001b[0m\u001b[1;33m,\u001b[0m \u001b[0mSocketError\u001b[0m\u001b[1;33m)\u001b[0m \u001b[1;32mas\u001b[0m \u001b[0me\u001b[0m\u001b[1;33m:\u001b[0m\u001b[1;33m\u001b[0m\u001b[1;33m\u001b[0m\u001b[0m\n",
      "\u001b[1;32mc:\\python36\\lib\\site-packages\\urllib3\\packages\\six.py\u001b[0m in \u001b[0;36mraise_from\u001b[1;34m(value, from_value)\u001b[0m\n",
      "\u001b[1;32mc:\\python36\\lib\\site-packages\\urllib3\\connectionpool.py\u001b[0m in \u001b[0;36m_make_request\u001b[1;34m(self, conn, method, url, timeout, chunked, **httplib_request_kw)\u001b[0m\n\u001b[0;32m    382\u001b[0m                 \u001b[1;32mtry\u001b[0m\u001b[1;33m:\u001b[0m\u001b[1;33m\u001b[0m\u001b[1;33m\u001b[0m\u001b[0m\n\u001b[1;32m--> 383\u001b[1;33m                     \u001b[0mhttplib_response\u001b[0m \u001b[1;33m=\u001b[0m \u001b[0mconn\u001b[0m\u001b[1;33m.\u001b[0m\u001b[0mgetresponse\u001b[0m\u001b[1;33m(\u001b[0m\u001b[1;33m)\u001b[0m\u001b[1;33m\u001b[0m\u001b[1;33m\u001b[0m\u001b[0m\n\u001b[0m\u001b[0;32m    384\u001b[0m                 \u001b[1;32mexcept\u001b[0m \u001b[0mException\u001b[0m \u001b[1;32mas\u001b[0m \u001b[0me\u001b[0m\u001b[1;33m:\u001b[0m\u001b[1;33m\u001b[0m\u001b[1;33m\u001b[0m\u001b[0m\n",
      "\u001b[1;32mc:\\python36\\lib\\http\\client.py\u001b[0m in \u001b[0;36mgetresponse\u001b[1;34m(self)\u001b[0m\n\u001b[0;32m   1330\u001b[0m             \u001b[1;32mtry\u001b[0m\u001b[1;33m:\u001b[0m\u001b[1;33m\u001b[0m\u001b[1;33m\u001b[0m\u001b[0m\n\u001b[1;32m-> 1331\u001b[1;33m                 \u001b[0mresponse\u001b[0m\u001b[1;33m.\u001b[0m\u001b[0mbegin\u001b[0m\u001b[1;33m(\u001b[0m\u001b[1;33m)\u001b[0m\u001b[1;33m\u001b[0m\u001b[1;33m\u001b[0m\u001b[0m\n\u001b[0m\u001b[0;32m   1332\u001b[0m             \u001b[1;32mexcept\u001b[0m \u001b[0mConnectionError\u001b[0m\u001b[1;33m:\u001b[0m\u001b[1;33m\u001b[0m\u001b[1;33m\u001b[0m\u001b[0m\n",
      "\u001b[1;32mc:\\python36\\lib\\http\\client.py\u001b[0m in \u001b[0;36mbegin\u001b[1;34m(self)\u001b[0m\n\u001b[0;32m    296\u001b[0m         \u001b[1;32mwhile\u001b[0m \u001b[1;32mTrue\u001b[0m\u001b[1;33m:\u001b[0m\u001b[1;33m\u001b[0m\u001b[1;33m\u001b[0m\u001b[0m\n\u001b[1;32m--> 297\u001b[1;33m             \u001b[0mversion\u001b[0m\u001b[1;33m,\u001b[0m \u001b[0mstatus\u001b[0m\u001b[1;33m,\u001b[0m \u001b[0mreason\u001b[0m \u001b[1;33m=\u001b[0m \u001b[0mself\u001b[0m\u001b[1;33m.\u001b[0m\u001b[0m_read_status\u001b[0m\u001b[1;33m(\u001b[0m\u001b[1;33m)\u001b[0m\u001b[1;33m\u001b[0m\u001b[1;33m\u001b[0m\u001b[0m\n\u001b[0m\u001b[0;32m    298\u001b[0m             \u001b[1;32mif\u001b[0m \u001b[0mstatus\u001b[0m \u001b[1;33m!=\u001b[0m \u001b[0mCONTINUE\u001b[0m\u001b[1;33m:\u001b[0m\u001b[1;33m\u001b[0m\u001b[1;33m\u001b[0m\u001b[0m\n",
      "\u001b[1;32mc:\\python36\\lib\\http\\client.py\u001b[0m in \u001b[0;36m_read_status\u001b[1;34m(self)\u001b[0m\n\u001b[0;32m    257\u001b[0m     \u001b[1;32mdef\u001b[0m \u001b[0m_read_status\u001b[0m\u001b[1;33m(\u001b[0m\u001b[0mself\u001b[0m\u001b[1;33m)\u001b[0m\u001b[1;33m:\u001b[0m\u001b[1;33m\u001b[0m\u001b[1;33m\u001b[0m\u001b[0m\n\u001b[1;32m--> 258\u001b[1;33m         \u001b[0mline\u001b[0m \u001b[1;33m=\u001b[0m \u001b[0mstr\u001b[0m\u001b[1;33m(\u001b[0m\u001b[0mself\u001b[0m\u001b[1;33m.\u001b[0m\u001b[0mfp\u001b[0m\u001b[1;33m.\u001b[0m\u001b[0mreadline\u001b[0m\u001b[1;33m(\u001b[0m\u001b[0m_MAXLINE\u001b[0m \u001b[1;33m+\u001b[0m \u001b[1;36m1\u001b[0m\u001b[1;33m)\u001b[0m\u001b[1;33m,\u001b[0m \u001b[1;34m\"iso-8859-1\"\u001b[0m\u001b[1;33m)\u001b[0m\u001b[1;33m\u001b[0m\u001b[1;33m\u001b[0m\u001b[0m\n\u001b[0m\u001b[0;32m    259\u001b[0m         \u001b[1;32mif\u001b[0m \u001b[0mlen\u001b[0m\u001b[1;33m(\u001b[0m\u001b[0mline\u001b[0m\u001b[1;33m)\u001b[0m \u001b[1;33m>\u001b[0m \u001b[0m_MAXLINE\u001b[0m\u001b[1;33m:\u001b[0m\u001b[1;33m\u001b[0m\u001b[1;33m\u001b[0m\u001b[0m\n",
      "\u001b[1;32mc:\\python36\\lib\\socket.py\u001b[0m in \u001b[0;36mreadinto\u001b[1;34m(self, b)\u001b[0m\n\u001b[0;32m    585\u001b[0m             \u001b[1;32mtry\u001b[0m\u001b[1;33m:\u001b[0m\u001b[1;33m\u001b[0m\u001b[1;33m\u001b[0m\u001b[0m\n\u001b[1;32m--> 586\u001b[1;33m                 \u001b[1;32mreturn\u001b[0m \u001b[0mself\u001b[0m\u001b[1;33m.\u001b[0m\u001b[0m_sock\u001b[0m\u001b[1;33m.\u001b[0m\u001b[0mrecv_into\u001b[0m\u001b[1;33m(\u001b[0m\u001b[0mb\u001b[0m\u001b[1;33m)\u001b[0m\u001b[1;33m\u001b[0m\u001b[1;33m\u001b[0m\u001b[0m\n\u001b[0m\u001b[0;32m    587\u001b[0m             \u001b[1;32mexcept\u001b[0m \u001b[0mtimeout\u001b[0m\u001b[1;33m:\u001b[0m\u001b[1;33m\u001b[0m\u001b[1;33m\u001b[0m\u001b[0m\n",
      "\u001b[1;31mProtocolError\u001b[0m: ('Connection aborted.', TimeoutError(10060, '由于连接方在一段时间后没有正确答复或连接的主机没有反应，连接尝试失败。', None, 10060, None))",
      "\nDuring handling of the above exception, another exception occurred:\n",
      "\u001b[1;31mConnectionError\u001b[0m                           Traceback (most recent call last)",
      "\u001b[1;32m<ipython-input-4-87be3ea7ecfc>\u001b[0m in \u001b[0;36m<module>\u001b[1;34m\u001b[0m\n\u001b[0;32m     22\u001b[0m     \u001b[1;31m# print(title, detail_url)\u001b[0m\u001b[1;33m\u001b[0m\u001b[1;33m\u001b[0m\u001b[1;33m\u001b[0m\u001b[0m\n\u001b[0;32m     23\u001b[0m     \u001b[1;31m# 向详情页的URL发送请求，获取详情页的文本数据\u001b[0m\u001b[1;33m\u001b[0m\u001b[1;33m\u001b[0m\u001b[1;33m\u001b[0m\u001b[0m\n\u001b[1;32m---> 24\u001b[1;33m     \u001b[0mdetail_page_text\u001b[0m \u001b[1;33m=\u001b[0m \u001b[0mrequests\u001b[0m\u001b[1;33m.\u001b[0m\u001b[0mget\u001b[0m\u001b[1;33m(\u001b[0m\u001b[0murl\u001b[0m\u001b[1;33m=\u001b[0m\u001b[0mdetail_url\u001b[0m\u001b[1;33m,\u001b[0m \u001b[0mheaders\u001b[0m\u001b[1;33m=\u001b[0m\u001b[0mheaders\u001b[0m\u001b[1;33m)\u001b[0m\u001b[1;33m.\u001b[0m\u001b[0mtext\u001b[0m\u001b[1;33m\u001b[0m\u001b[1;33m\u001b[0m\u001b[0m\n\u001b[0m\u001b[0;32m     25\u001b[0m     \u001b[0mdetail_soup\u001b[0m \u001b[1;33m=\u001b[0m \u001b[0mBeautifulSoup\u001b[0m\u001b[1;33m(\u001b[0m\u001b[0mdetail_page_text\u001b[0m\u001b[1;33m,\u001b[0m \u001b[1;34m\"lxml\"\u001b[0m\u001b[1;33m)\u001b[0m\u001b[1;33m\u001b[0m\u001b[1;33m\u001b[0m\u001b[0m\n\u001b[0;32m     26\u001b[0m     \u001b[0mdiv_tag\u001b[0m \u001b[1;33m=\u001b[0m \u001b[0mdetail_soup\u001b[0m\u001b[1;33m.\u001b[0m\u001b[0mfind\u001b[0m\u001b[1;33m(\u001b[0m\u001b[1;34m\"div\"\u001b[0m\u001b[1;33m,\u001b[0m \u001b[0mclass_\u001b[0m\u001b[1;33m=\u001b[0m\u001b[1;34m\"chapter_content\"\u001b[0m\u001b[1;33m)\u001b[0m\u001b[1;33m\u001b[0m\u001b[1;33m\u001b[0m\u001b[0m\n",
      "\u001b[1;32mc:\\python36\\lib\\site-packages\\requests\\api.py\u001b[0m in \u001b[0;36mget\u001b[1;34m(url, params, **kwargs)\u001b[0m\n\u001b[0;32m     73\u001b[0m \u001b[1;33m\u001b[0m\u001b[0m\n\u001b[0;32m     74\u001b[0m     \u001b[0mkwargs\u001b[0m\u001b[1;33m.\u001b[0m\u001b[0msetdefault\u001b[0m\u001b[1;33m(\u001b[0m\u001b[1;34m'allow_redirects'\u001b[0m\u001b[1;33m,\u001b[0m \u001b[1;32mTrue\u001b[0m\u001b[1;33m)\u001b[0m\u001b[1;33m\u001b[0m\u001b[1;33m\u001b[0m\u001b[0m\n\u001b[1;32m---> 75\u001b[1;33m     \u001b[1;32mreturn\u001b[0m \u001b[0mrequest\u001b[0m\u001b[1;33m(\u001b[0m\u001b[1;34m'get'\u001b[0m\u001b[1;33m,\u001b[0m \u001b[0murl\u001b[0m\u001b[1;33m,\u001b[0m \u001b[0mparams\u001b[0m\u001b[1;33m=\u001b[0m\u001b[0mparams\u001b[0m\u001b[1;33m,\u001b[0m \u001b[1;33m**\u001b[0m\u001b[0mkwargs\u001b[0m\u001b[1;33m)\u001b[0m\u001b[1;33m\u001b[0m\u001b[1;33m\u001b[0m\u001b[0m\n\u001b[0m\u001b[0;32m     76\u001b[0m \u001b[1;33m\u001b[0m\u001b[0m\n\u001b[0;32m     77\u001b[0m \u001b[1;33m\u001b[0m\u001b[0m\n",
      "\u001b[1;32mc:\\python36\\lib\\site-packages\\requests\\api.py\u001b[0m in \u001b[0;36mrequest\u001b[1;34m(method, url, **kwargs)\u001b[0m\n\u001b[0;32m     58\u001b[0m     \u001b[1;31m# cases, and look like a memory leak in others.\u001b[0m\u001b[1;33m\u001b[0m\u001b[1;33m\u001b[0m\u001b[1;33m\u001b[0m\u001b[0m\n\u001b[0;32m     59\u001b[0m     \u001b[1;32mwith\u001b[0m \u001b[0msessions\u001b[0m\u001b[1;33m.\u001b[0m\u001b[0mSession\u001b[0m\u001b[1;33m(\u001b[0m\u001b[1;33m)\u001b[0m \u001b[1;32mas\u001b[0m \u001b[0msession\u001b[0m\u001b[1;33m:\u001b[0m\u001b[1;33m\u001b[0m\u001b[1;33m\u001b[0m\u001b[0m\n\u001b[1;32m---> 60\u001b[1;33m         \u001b[1;32mreturn\u001b[0m \u001b[0msession\u001b[0m\u001b[1;33m.\u001b[0m\u001b[0mrequest\u001b[0m\u001b[1;33m(\u001b[0m\u001b[0mmethod\u001b[0m\u001b[1;33m=\u001b[0m\u001b[0mmethod\u001b[0m\u001b[1;33m,\u001b[0m \u001b[0murl\u001b[0m\u001b[1;33m=\u001b[0m\u001b[0murl\u001b[0m\u001b[1;33m,\u001b[0m \u001b[1;33m**\u001b[0m\u001b[0mkwargs\u001b[0m\u001b[1;33m)\u001b[0m\u001b[1;33m\u001b[0m\u001b[1;33m\u001b[0m\u001b[0m\n\u001b[0m\u001b[0;32m     61\u001b[0m \u001b[1;33m\u001b[0m\u001b[0m\n\u001b[0;32m     62\u001b[0m \u001b[1;33m\u001b[0m\u001b[0m\n",
      "\u001b[1;32mc:\\python36\\lib\\site-packages\\requests\\sessions.py\u001b[0m in \u001b[0;36mrequest\u001b[1;34m(self, method, url, params, data, headers, cookies, files, auth, timeout, allow_redirects, proxies, hooks, stream, verify, cert, json)\u001b[0m\n\u001b[0;32m    531\u001b[0m         }\n\u001b[0;32m    532\u001b[0m         \u001b[0msend_kwargs\u001b[0m\u001b[1;33m.\u001b[0m\u001b[0mupdate\u001b[0m\u001b[1;33m(\u001b[0m\u001b[0msettings\u001b[0m\u001b[1;33m)\u001b[0m\u001b[1;33m\u001b[0m\u001b[1;33m\u001b[0m\u001b[0m\n\u001b[1;32m--> 533\u001b[1;33m         \u001b[0mresp\u001b[0m \u001b[1;33m=\u001b[0m \u001b[0mself\u001b[0m\u001b[1;33m.\u001b[0m\u001b[0msend\u001b[0m\u001b[1;33m(\u001b[0m\u001b[0mprep\u001b[0m\u001b[1;33m,\u001b[0m \u001b[1;33m**\u001b[0m\u001b[0msend_kwargs\u001b[0m\u001b[1;33m)\u001b[0m\u001b[1;33m\u001b[0m\u001b[1;33m\u001b[0m\u001b[0m\n\u001b[0m\u001b[0;32m    534\u001b[0m \u001b[1;33m\u001b[0m\u001b[0m\n\u001b[0;32m    535\u001b[0m         \u001b[1;32mreturn\u001b[0m \u001b[0mresp\u001b[0m\u001b[1;33m\u001b[0m\u001b[1;33m\u001b[0m\u001b[0m\n",
      "\u001b[1;32mc:\\python36\\lib\\site-packages\\requests\\sessions.py\u001b[0m in \u001b[0;36msend\u001b[1;34m(self, request, **kwargs)\u001b[0m\n\u001b[0;32m    644\u001b[0m \u001b[1;33m\u001b[0m\u001b[0m\n\u001b[0;32m    645\u001b[0m         \u001b[1;31m# Send the request\u001b[0m\u001b[1;33m\u001b[0m\u001b[1;33m\u001b[0m\u001b[1;33m\u001b[0m\u001b[0m\n\u001b[1;32m--> 646\u001b[1;33m         \u001b[0mr\u001b[0m \u001b[1;33m=\u001b[0m \u001b[0madapter\u001b[0m\u001b[1;33m.\u001b[0m\u001b[0msend\u001b[0m\u001b[1;33m(\u001b[0m\u001b[0mrequest\u001b[0m\u001b[1;33m,\u001b[0m \u001b[1;33m**\u001b[0m\u001b[0mkwargs\u001b[0m\u001b[1;33m)\u001b[0m\u001b[1;33m\u001b[0m\u001b[1;33m\u001b[0m\u001b[0m\n\u001b[0m\u001b[0;32m    647\u001b[0m \u001b[1;33m\u001b[0m\u001b[0m\n\u001b[0;32m    648\u001b[0m         \u001b[1;31m# Total elapsed time of the request (approximately)\u001b[0m\u001b[1;33m\u001b[0m\u001b[1;33m\u001b[0m\u001b[1;33m\u001b[0m\u001b[0m\n",
      "\u001b[1;32mc:\\python36\\lib\\site-packages\\requests\\adapters.py\u001b[0m in \u001b[0;36msend\u001b[1;34m(self, request, stream, timeout, verify, cert, proxies)\u001b[0m\n\u001b[0;32m    496\u001b[0m \u001b[1;33m\u001b[0m\u001b[0m\n\u001b[0;32m    497\u001b[0m         \u001b[1;32mexcept\u001b[0m \u001b[1;33m(\u001b[0m\u001b[0mProtocolError\u001b[0m\u001b[1;33m,\u001b[0m \u001b[0msocket\u001b[0m\u001b[1;33m.\u001b[0m\u001b[0merror\u001b[0m\u001b[1;33m)\u001b[0m \u001b[1;32mas\u001b[0m \u001b[0merr\u001b[0m\u001b[1;33m:\u001b[0m\u001b[1;33m\u001b[0m\u001b[1;33m\u001b[0m\u001b[0m\n\u001b[1;32m--> 498\u001b[1;33m             \u001b[1;32mraise\u001b[0m \u001b[0mConnectionError\u001b[0m\u001b[1;33m(\u001b[0m\u001b[0merr\u001b[0m\u001b[1;33m,\u001b[0m \u001b[0mrequest\u001b[0m\u001b[1;33m=\u001b[0m\u001b[0mrequest\u001b[0m\u001b[1;33m)\u001b[0m\u001b[1;33m\u001b[0m\u001b[1;33m\u001b[0m\u001b[0m\n\u001b[0m\u001b[0;32m    499\u001b[0m \u001b[1;33m\u001b[0m\u001b[0m\n\u001b[0;32m    500\u001b[0m         \u001b[1;32mexcept\u001b[0m \u001b[0mMaxRetryError\u001b[0m \u001b[1;32mas\u001b[0m \u001b[0me\u001b[0m\u001b[1;33m:\u001b[0m\u001b[1;33m\u001b[0m\u001b[1;33m\u001b[0m\u001b[0m\n",
      "\u001b[1;31mConnectionError\u001b[0m: ('Connection aborted.', TimeoutError(10060, '由于连接方在一段时间后没有正确答复或连接的主机没有反应，连接尝试失败。', None, 10060, None))"
     ],
     "ename": "ConnectionError",
     "evalue": "('Connection aborted.', TimeoutError(10060, '由于连接方在一段时间后没有正确答复或连接的主机没有反应，连接尝试失败。', None, 10060, None))",
     "output_type": "error"
    }
   ],
   "source": [
    "# 爬取三国演义上面的文章内容\n",
    "import requests\n",
    "from bs4 import BeautifulSoup\n",
    "\n",
    "url = \"http://www.shicimingju.com/book/sanguoyanyi.html\"\n",
    "headers = {\n",
    "    \"User-Agent\": \"Mozilla/5.0 (Windows NT 10.0; Win64; x64) AppleWebKit/537.36 (KHTML, like Gecko) Chrome/75.0.3770.80 Safari/537.36\"\n",
    "}\n",
    "\n",
    "page_text = requests.get(url=url, headers=headers).text\n",
    "# print(page_text)\n",
    "\n",
    "soup = BeautifulSoup(page_text, \"lxml\")\n",
    "li_list = soup.select(\".book-mulu li\")\n",
    "\n",
    "f = open(\"./sanguo.txt\", \"w\", encoding=\"utf-8\")\n",
    "# 循环li_list列表, 获取li标签下的a标签下面的文本数据和url\n",
    "for li in li_list:\n",
    "    title = li.a.string\n",
    "    detail_url = \"http://www.shicimingju.com\" + li.a[\"href\"]\n",
    "    \n",
    "    # print(title, detail_url)\n",
    "    # 向详情页的URL发送请求，获取详情页的文本数据\n",
    "    detail_page_text = requests.get(url=detail_url, headers=headers).text\n",
    "    detail_soup = BeautifulSoup(detail_page_text, \"lxml\")\n",
    "    div_tag = detail_soup.find(\"div\", class_=\"chapter_content\")\n",
    "    detail_text = div_tag.get_text()\n",
    "    \n",
    "    f.write(title + \":\" + detail_text + \"\\n\")\n",
    "\n",
    "f.close()"
   ]
  },
  {
   "cell_type": "code",
   "execution_count": null,
   "metadata": {},
   "outputs": [],
   "source": []
  }
 ],
 "metadata": {
  "kernelspec": {
   "display_name": "Python 3",
   "language": "python",
   "name": "python3"
  },
  "language_info": {
   "codemirror_mode": {
    "name": "ipython",
    "version": 3
   },
   "file_extension": ".py",
   "mimetype": "text/x-python",
   "name": "python",
   "nbconvert_exporter": "python",
   "pygments_lexer": "ipython3",
   "version": "3.6.5"
  },
  "pycharm": {
   "stem_cell": {
    "cell_type": "raw",
    "source": [],
    "metadata": {
     "collapsed": false
    }
   }
  }
 },
 "nbformat": 4,
 "nbformat_minor": 2
}